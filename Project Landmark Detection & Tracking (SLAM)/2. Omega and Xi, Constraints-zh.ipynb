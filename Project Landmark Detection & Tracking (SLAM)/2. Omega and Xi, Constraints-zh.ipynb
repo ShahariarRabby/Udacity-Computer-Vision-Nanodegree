{
 "cells": [
  {
   "cell_type": "markdown",
   "metadata": {},
   "source": [
    "## Omega 与 Xi\n",
    "\n",
    "为了实现Graph SLAM，我们引入了一个矩阵与一个向量，分别为omega和xi。该矩阵是方形的，并标有所有机器人姿势（xi）和所有地标（Li）。例如，在每次进行观察中，当你在两个姿势之间移动某个距离`dx`并且可以将这两个位置关联起来时，可以将其表示为这些矩阵中的数值关系。\n",
    "\n",
    "你会很容易通过示例看到这些是如何工作的。下面，你看到的是一个omega的矩阵表示与xi的向量表示。\n",
    "\n",
    "<img src='images/omega_xi.png' width=20% height=20% />\n",
    "\n",
    "接下来，让我们看一个将3个姿势相互关联的简单示例。\n",
    "* 最开始，这些值中的大部分都是零或仅包含初始机器人位置的值\n",
    "* 在此示例中，我们会给你与这些姿势相互关联的约束\n",
    "* 约束转换为矩阵值\n",
    "\n",
    "<img src='images/omega_xi_constraints.png' width=70% height=70% />\n",
    "\n",
    "如果你曾经求解过线性方程组，你对这个可能会很熟悉。如果没有，就让我们继续学习吧！\n",
    "\n",
    "### 求解 x\n",
    "\n",
    "为了“求解”所有这些x值，我们可以使用线性代数。 x的所有值都在向量`mu`中，该向量可以计算为ome乘以xi的倒数的乘积。\n",
    "\n",
    "<img src='images/solution.png' width=30% height=30% />\n",
    "\n",
    "---\n",
    "**你可以通过在下面的单元格中执行数学运算来自行确认此结果。**"
   ]
  },
  {
   "cell_type": "code",
   "execution_count": null,
   "metadata": {},
   "outputs": [],
   "source": [
    "import numpy as np\n",
    "\n",
    "# define omega and xi as in the example\n",
    "omega = np.array([[1,0,0],\n",
    "                  [-1,1,0],\n",
    "                  [0,-1,1]])\n",
    "\n",
    "xi = np.array([[-3],\n",
    "               [5],\n",
    "               [3]])\n",
    "\n",
    "# calculate the inverse of omega\n",
    "omega_inv = np.linalg.inv(np.matrix(omega))\n",
    "\n",
    "# calculate the solution, mu\n",
    "mu = omega_inv*xi\n",
    "\n",
    "# print out the values of mu (x0, x1, x2)\n",
    "print(mu)"
   ]
  },
  {
   "cell_type": "markdown",
   "metadata": {},
   "source": [
    "## 运动约束和地标\n",
    "\n",
    "在最后一个例子中，已知的是一个姿势与另一个姿势相关的约束方程。在下一个示例中，让我们看一看如何使用运动以及类似的传感器测量来创建约束并填充约束矩阵omega和xi。首先，从空/零矩阵开始。\n",
    "\n",
    "<img src='images/initial_constraints.png' width=35% height=35% />\n",
    "\n",
    "该示例还包括姿势和地标之间的关系。假设我们从x0移动到x1，位移`dx`为5，然后创建一个将x0与x1相关联的运动约束。之后，就可以填充这些矩阵了。\n",
    "\n",
    "<img src='images/motion_constraint.png' width=50% height=50% />\n",
    "\n",
    "事实上，一个约束方程可以用两种方式编写。因此，通过移动5将x0和x1相关联的运动约束已经影响到了矩阵，并为对应于x0和x1的*所有*元素添加了值。\n",
    "\n",
    "---\n",
    "\n",
    "### 2D示例\n",
    "\n",
    "在这些示例中，我们向你展示的只是仅在一个维度（x维度）上的变化。在这个实战项目中，是否表示omega和xi中的x和y位置值，这取决于你。一种解决方案是创建一个比机器人姿势数量（通过一系列时间步长生成）大2倍的omega和xi以及地标的数量，这样它们就可以为姿势和地标位置保持一定的x和y值。阅读下一本notebook中的说明时，我可能会建议你为SLAM绘制一个粗略的解决方案，这样有助于帮你组织你的想法。最后，祝你进展顺利哦！"
   ]
  }
 ],
 "metadata": {},
 "nbformat": 4,
 "nbformat_minor": 2
}
